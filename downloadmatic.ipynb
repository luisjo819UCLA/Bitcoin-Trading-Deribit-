{
 "cells": [
  {
   "cell_type": "code",
   "execution_count": 5,
   "metadata": {},
   "outputs": [],
   "source": [
    "import numpy as np \n",
    "import websocket\n",
    "import json\n",
    "import pandas as pd"
   ]
  },
  {
   "cell_type": "code",
   "execution_count": 6,
   "metadata": {},
   "outputs": [],
   "source": [
    "\n",
    "# Your Deribit credentials\n",
    "api_key = 'x_uXagP8'\n",
    "api_secret = 'ygSW1HwArk2tVnDU_FpByAZLMPJkaUx51Y56NS24DrI'"
   ]
  },
  {
   "cell_type": "code",
   "execution_count": 14,
   "metadata": {},
   "outputs": [
    {
     "name": "stdout",
     "output_type": "stream",
     "text": [
      "Available currencies on Deribit:\n",
      "{'min_confirmations': 1, 'in_cross_collateral_pool': False, 'currency_long': 'Ethereum POW', 'withdrawal_priorities': [], 'fee_precision': 4, 'min_withdrawal_fee': 0.0001, 'coin_type': 'ETHW', 'withdrawal_fee': 0.0001, 'currency': 'ETHW'}\n",
      "{'min_confirmations': 1, 'in_cross_collateral_pool': False, 'currency_long': 'Staked ETH', 'withdrawal_priorities': [], 'fee_precision': 4, 'min_withdrawal_fee': 0.0001, 'coin_type': 'STETH', 'withdrawal_fee': 0.0006, 'currency': 'STETH'}\n",
      "{'min_confirmations': 1, 'in_cross_collateral_pool': False, 'currency_long': 'Matic Ethereum Token', 'withdrawal_priorities': [], 'fee_precision': 4, 'min_withdrawal_fee': 0.0001, 'coin_type': 'MATIC', 'withdrawal_fee': 2.3734, 'currency': 'MATIC'}\n",
      "{'min_confirmations': 1, 'in_cross_collateral_pool': False, 'currency_long': 'XRP', 'withdrawal_priorities': [], 'fee_precision': 4, 'min_withdrawal_fee': 0.0001, 'coin_type': 'XRP', 'withdrawal_fee': 0.0001, 'currency': 'XRP'}\n",
      "{'min_confirmations': 1, 'in_cross_collateral_pool': False, 'currency_long': 'StablR Euro', 'withdrawal_priorities': [], 'fee_precision': 4, 'min_withdrawal_fee': 0.0001, 'coin_type': 'EURR', 'withdrawal_fee': 0.0006, 'currency': 'EURR'}\n",
      "{'min_confirmations': 1, 'in_cross_collateral_pool': False, 'currency_long': 'Solana', 'withdrawal_priorities': [], 'fee_precision': 4, 'min_withdrawal_fee': 0.0001, 'coin_type': 'SOL', 'withdrawal_fee': 0.0001, 'currency': 'SOL'}\n",
      "{'min_confirmations': 1, 'in_cross_collateral_pool': True, 'currency_long': 'Tether', 'withdrawal_priorities': [], 'fee_precision': 4, 'min_withdrawal_fee': 0.0001, 'coin_type': 'USDT', 'withdrawal_fee': 1.7169, 'currency': 'USDT'}\n",
      "{'min_confirmations': 50, 'in_cross_collateral_pool': True, 'currency_long': 'USD Coin', 'withdrawal_priorities': [], 'fee_precision': 4, 'min_withdrawal_fee': 10.0, 'coin_type': 'USDC', 'withdrawal_fee': 10.0, 'currency': 'USDC'}\n",
      "{'min_confirmations': 50, 'in_cross_collateral_pool': True, 'currency_long': 'Ethereum', 'withdrawal_priorities': [], 'fee_precision': 4, 'min_withdrawal_fee': 0.0001, 'coin_type': 'ETH', 'withdrawal_fee': 0.0003, 'currency': 'ETH'}\n",
      "{'min_confirmations': 1, 'in_cross_collateral_pool': True, 'currency_long': 'Bitcoin', 'withdrawal_priorities': [], 'fee_precision': 5, 'min_withdrawal_fee': 1e-05, 'coin_type': 'BTC', 'withdrawal_fee': 0.0001, 'currency': 'BTC'}\n"
     ]
    }
   ],
   "source": [
    "import requests\n",
    "\n",
    "def get_deribit_currencies():\n",
    "    base_url = \"https://www.deribit.com/api/v2/public/get_currencies\"\n",
    "    \n",
    "    response = requests.get(base_url)\n",
    "    \n",
    "    if response.status_code == 200:\n",
    "        data = response.json()\n",
    "        if 'result' in data:\n",
    "            return data['result']\n",
    "        else:\n",
    "            raise Exception(\"Unexpected response format: 'result' key not found\")\n",
    "    else:\n",
    "        raise Exception(f\"Error {response.status_code}: {response.text}\")\n",
    "\n",
    "# Example usage\n",
    "if __name__ == \"__main__\":\n",
    "    try:\n",
    "        currencies = get_deribit_currencies()\n",
    "        print(\"Available currencies on Deribit:\")\n",
    "        for currency in currencies:\n",
    "            print(currency)\n",
    "    except Exception as e:\n",
    "        print(e)\n"
   ]
  },
  {
   "cell_type": "code",
   "execution_count": 21,
   "metadata": {},
   "outputs": [
    {
     "name": "stdout",
     "output_type": "stream",
     "text": [
      "Available instruments for USDC:\n",
      "{'tick_size_steps': [], 'quote_currency': 'USDC', 'min_trade_amount': 0.0001, 'counter_currency': 'USDC', 'block_trade_tick_size': 0.0001, 'block_trade_min_trade_amount': 10, 'block_trade_commission': 0.0, 'creation_timestamp': 1682341202000, 'instrument_id': 254613, 'base_currency': 'BTC', 'tick_size': 1.0, 'contract_size': 0.0001, 'is_active': True, 'expiration_timestamp': 32503708800000, 'instrument_type': 'linear', 'instrument_name': 'BTC_USDC', 'taker_commission': 0.0, 'maker_commission': 0.0, 'kind': 'spot', 'rfq': False, 'price_index': 'btc_usdc'}\n",
      "{'tick_size_steps': [], 'quote_currency': 'USDC', 'min_trade_amount': 0.0001, 'counter_currency': 'USDC', 'block_trade_tick_size': 0.0001, 'block_trade_min_trade_amount': 10, 'block_trade_commission': 0.0, 'creation_timestamp': 1682341223000, 'instrument_id': 254614, 'base_currency': 'ETH', 'tick_size': 0.1, 'contract_size': 0.0001, 'is_active': True, 'expiration_timestamp': 32503708800000, 'instrument_type': 'linear', 'instrument_name': 'ETH_USDC', 'taker_commission': 0.0, 'maker_commission': 0.0, 'kind': 'spot', 'rfq': False, 'price_index': 'eth_usdc'}\n",
      "{'tick_size_steps': [], 'quote_currency': 'USDC', 'min_trade_amount': 1, 'counter_currency': 'USDC', 'block_trade_tick_size': 0.0001, 'block_trade_min_trade_amount': 10, 'block_trade_commission': 0.0, 'creation_timestamp': 1709035201000, 'instrument_id': 296587, 'base_currency': 'MATIC', 'tick_size': 0.0001, 'contract_size': 1, 'is_active': True, 'expiration_timestamp': 32503708800000, 'instrument_type': 'linear', 'instrument_name': 'MATIC_USDC', 'taker_commission': 0.0, 'maker_commission': 0.0, 'kind': 'spot', 'rfq': False, 'price_index': 'matic_usdc'}\n",
      "{'tick_size_steps': [], 'quote_currency': 'USDC', 'min_trade_amount': 0.1, 'counter_currency': 'USDC', 'block_trade_tick_size': 0.0001, 'block_trade_min_trade_amount': 10, 'block_trade_commission': 0.0, 'creation_timestamp': 1709035215000, 'instrument_id': 296588, 'base_currency': 'SOL', 'tick_size': 0.01, 'contract_size': 0.1, 'is_active': True, 'expiration_timestamp': 32503708800000, 'instrument_type': 'linear', 'instrument_name': 'SOL_USDC', 'taker_commission': 0.0, 'maker_commission': 0.0, 'kind': 'spot', 'rfq': False, 'price_index': 'sol_usdc'}\n",
      "{'tick_size_steps': [], 'quote_currency': 'USDT', 'min_trade_amount': 1, 'counter_currency': 'USDT', 'block_trade_tick_size': 0.0001, 'block_trade_min_trade_amount': 10, 'block_trade_commission': 0.0, 'creation_timestamp': 1702374687000, 'instrument_id': 282198, 'base_currency': 'USDC', 'tick_size': 0.0001, 'contract_size': 1, 'is_active': True, 'expiration_timestamp': 32503708800000, 'instrument_type': 'linear', 'instrument_name': 'USDC_USDT', 'taker_commission': 0.0, 'maker_commission': 0.0, 'kind': 'spot', 'rfq': False, 'price_index': 'usdc_usdt'}\n",
      "{'tick_size_steps': [], 'quote_currency': 'USDC', 'min_trade_amount': 1, 'counter_currency': 'USDC', 'block_trade_tick_size': 0.0001, 'block_trade_min_trade_amount': 10, 'block_trade_commission': 0.0, 'creation_timestamp': 1709035226000, 'instrument_id': 296589, 'base_currency': 'XRP', 'tick_size': 0.0001, 'contract_size': 1, 'is_active': True, 'expiration_timestamp': 32503708800000, 'instrument_type': 'linear', 'instrument_name': 'XRP_USDC', 'taker_commission': 0.0, 'maker_commission': 0.0, 'kind': 'spot', 'rfq': False, 'price_index': 'xrp_usdc'}\n"
     ]
    }
   ],
   "source": [
    "import requests\n",
    "\n",
    "def get_deribit_instruments(currency, kind=None, expired=\"false\"):\n",
    "    base_url = \"https://www.deribit.com/api/v2/public/get_instruments\"\n",
    "    \n",
    "    params = {\n",
    "        'currency': currency,\n",
    "        'kind': kind,\n",
    "        'expired': expired\n",
    "    }\n",
    "\n",
    "    \n",
    "    response = requests.get(base_url, params=params)\n",
    "    \n",
    "    if response.status_code == 200:\n",
    "        data = response.json()\n",
    "        if 'result' in data:\n",
    "            return data['result']\n",
    "        else:\n",
    "            raise Exception(\"Unexpected response format: 'result' key not found\")\n",
    "    else:\n",
    "        raise Exception(f\"Error {response.status_code}: {response.text}\")\n",
    "\n",
    "# Example usage\n",
    "if __name__ == \"__main__\":\n",
    "    try:\n",
    "        currency = 'USDC'  # Specify the currency, e.g., 'BTC' or 'ETH'\n",
    "        kind = 'spot'   # Optional: specify the kind of instrument, e.g., 'option' or 'future'\n",
    "        instruments = get_deribit_instruments(currency, kind)\n",
    "        print(f\"Available instruments for {currency}:\")\n",
    "        for instrument in instruments:\n",
    "            print(instrument)\n",
    "    except Exception as e:\n",
    "        print(e)\n"
   ]
  },
  {
   "cell_type": "code",
   "execution_count": 1,
   "metadata": {},
   "outputs": [
    {
     "name": "stdout",
     "output_type": "stream",
     "text": [
      "Details for instrument MATIC_USDC:\n",
      "{'tick_size_steps': [], 'quote_currency': 'USDC', 'min_trade_amount': 1, 'counter_currency': 'USDC', 'block_trade_tick_size': 0.0001, 'block_trade_min_trade_amount': 10, 'block_trade_commission': 0.0, 'creation_timestamp': 1709035201000, 'instrument_id': 296587, 'base_currency': 'MATIC', 'tick_size': 0.0001, 'contract_size': 1, 'is_active': True, 'expiration_timestamp': 32503708800000, 'instrument_type': 'linear', 'instrument_name': 'MATIC_USDC', 'taker_commission': 0.0, 'maker_commission': 0.0, 'kind': 'spot', 'rfq': False, 'price_index': 'matic_usdc'}\n"
     ]
    }
   ],
   "source": [
    "import requests\n",
    "\n",
    "def get_deribit_instrument(instrument_name):\n",
    "    base_url = \"https://www.deribit.com/api/v2/public/get_instrument\"\n",
    "    \n",
    "    params = {\n",
    "        'instrument_name': instrument_name\n",
    "    }\n",
    "    \n",
    "    response = requests.get(base_url, params=params)\n",
    "    \n",
    "    if response.status_code == 200:\n",
    "        data = response.json()\n",
    "        if 'result' in data:\n",
    "            return data['result']\n",
    "        else:\n",
    "            raise Exception(\"Unexpected response format: 'result' key not found\")\n",
    "    else:\n",
    "        raise Exception(f\"Error {response.status_code}: {response.text}\")\n",
    "\n",
    "# Example usage\n",
    "if __name__ == \"__main__\":\n",
    "    try:\n",
    "        instrument_name = 'MATIC_USDC'  # Specify the instrument name\n",
    "        instrument_details = get_deribit_instrument(instrument_name)\n",
    "        print(f\"Details for instrument {instrument_name}:\")\n",
    "        print(instrument_details)\n",
    "    except Exception as e:\n",
    "        print(e)\n"
   ]
  },
  {
   "cell_type": "code",
   "execution_count": 2,
   "metadata": {},
   "outputs": [],
   "source": [
    "import requests\n",
    "import time\n",
    "from datetime import datetime, timedelta\n",
    "# Calculate the timestamps for the last month\n",
    "#End time here is now! But could be some other in the past!\n",
    "end_time = datetime.now()\n",
    "#Lets put end_time to a week ago\n",
    "end_time = end_time - timedelta(days=7)\n",
    "#Lets near the end time to the nearst hour\n",
    "end_time = end_time.replace(minute=0, second=0, microsecond=0)\n",
    "#Lets reduce the start time to 1 hour before\n",
    "start_time = end_time - timedelta(hours=1) #Just 1 hour before\n",
    "\n",
    "#Lets create this as a function\n",
    "def time_lapse(start_time, end_time):\n",
    "    # Convert timestamps to milliseconds since epoch\n",
    "    end_timestamp = int(time.mktime(end_time.timetuple()) * 1000)\n",
    "    start_timestamp = int(time.mktime(start_time.timetuple()) * 1000)\n",
    "    return start_timestamp, end_timestamp"
   ]
  },
  {
   "cell_type": "code",
   "execution_count": 26,
   "metadata": {},
   "outputs": [
    {
     "name": "stdout",
     "output_type": "stream",
     "text": [
      "Failed to fetch data: 400\n"
     ]
    }
   ],
   "source": [
    "import requests\n",
    "import datetime\n",
    "\n",
    "# Define the base URL for historical data\n",
    "base_url = 'https://history.deribit.com/api/v2/public'\n",
    "\n",
    "# Define the URL for fetching historical trades\n",
    "historical_trades_url = f'{base_url}/get_last_trades_by_currency_and_time'\n",
    "\n",
    "# Define the timestamps for the last month\n",
    "#Lets put end_timestamp as a week ago, and start_timestamp as 30 days before end_timestamp\n",
    "end_timestamp = int(time.mktime(end_time.timetuple()) * 1000)\n",
    "start_timestamp = int(time.mktime((end_time - timedelta(hours=1)).timetuple()) * 1000)\n",
    "\n",
    "# Define the payload for fetching historical trades\n",
    "trades_payload = {\n",
    "    'currency': 'MATIC',\n",
    "    'start_timestamp': start_timestamp,\n",
    "    'end_timestamp': end_timestamp,\n",
    "    'kind': 'spot',\n",
    "    'count': 10000,\n",
    "    'include_old': True\n",
    "}\n",
    "\n",
    "# Send the request to get historical trades\n",
    "trades_response = requests.get(historical_trades_url, params=trades_payload)\n",
    "\n",
    "# Check if the response is successful\n",
    "if trades_response.status_code == 200:\n",
    "    trades_data = trades_response.json()\n",
    "    print(\"Historical Trades Response:\", trades_data)\n",
    "    \n",
    "    # Process and print trades data\n",
    "    if 'result' in trades_data:\n",
    "        trades = trades_data['result']['trades']\n",
    "        for trade in trades:\n",
    "            print(f\"Trade ID: {trade['trade_id']}, Timestamp: {trade['timestamp']}, Price: {trade['price']}, Amount: {trade['amount']}, Direction: {trade['direction']}\")\n",
    "    else:\n",
    "        print(\"Failed to fetch trades data\")\n",
    "else:\n",
    "    print(f\"Failed to fetch data: {trades_response.status_code}\")\n",
    "    \n",
    "\n",
    "\n"
   ]
  },
  {
   "cell_type": "code",
   "execution_count": 25,
   "metadata": {},
   "outputs": [
    {
     "name": "stdout",
     "output_type": "stream",
     "text": [
      "Failed to fetch data: 400\n"
     ]
    }
   ],
   "source": [
    "import requests\n",
    "import datetime\n",
    "\n",
    "# Define the base URL for historical data\n",
    "base_url = 'https://history.deribit.com/api/v2/public'\n",
    "\n",
    "# Define the URL for fetching historical trades\n",
    "historical_trades_url = f'{base_url}/get_last_trades_by_instrument_and_time'\n",
    "\n",
    "# Define the timestamps for the last month\n",
    "#Lets put end_timestamp as a week ago, and start_timestamp as 30 days before end_timestamp\n",
    "end_timestamp = int(time.mktime(end_time.timetuple()) * 1000)\n",
    "start_timestamp = int(time.mktime((end_time - timedelta(hours=1)).timetuple()) * 1000)\n",
    "\n",
    "# Define the payload for fetching historical trades\n",
    "trades_payload = {\n",
    "    'currency': 'MATIC',\n",
    "    'start_timestamp': start_timestamp,\n",
    "    'end_timestamp': end_timestamp,\n",
    "    'count': 10000,\n",
    "    'sorting': 'asc'\n",
    "}\n",
    "\n",
    "# Send the request to get historical trades\n",
    "trades_response = requests.get(historical_trades_url, params=trades_payload)\n",
    "\n",
    "# Check if the response is successful\n",
    "if trades_response.status_code == 200:\n",
    "    trades_data = trades_response.json()\n",
    "    print(\"Historical Trades Response:\", trades_data)\n",
    "    \n",
    "    # Process and print trades data\n",
    "    if 'result' in trades_data:\n",
    "        trades = trades_data['result']['trades']\n",
    "        for trade in trades:\n",
    "            print(f\"Trade ID: {trade['trade_id']}, Timestamp: {trade['timestamp']}, Price: {trade['price']}, Amount: {trade['amount']}, Direction: {trade['direction']}\")\n",
    "    else:\n",
    "        print(\"Failed to fetch trades data\")\n",
    "else:\n",
    "    print(f\"Failed to fetch data: {trades_response.status_code}\")\n",
    "    \n",
    "\n",
    "\n"
   ]
  },
  {
   "cell_type": "code",
   "execution_count": 19,
   "metadata": {},
   "outputs": [],
   "source": [
    "#Lets order trades\n",
    "import pandas as pd\n",
    "trades = trades_data['result']['trades']\n",
    "df = pd.json_normalize(trades)\n",
    "df['timestamp'] = pd.to_datetime(df['timestamp'], unit='ms')\n",
    "#Lets convert this into a function\n"
   ]
  },
  {
   "cell_type": "code",
   "execution_count": 20,
   "metadata": {},
   "outputs": [
    {
     "data": {
      "text/plain": [
       "array(['ETH_USDC', 'ETH_BTC'], dtype=object)"
      ]
     },
     "execution_count": 20,
     "metadata": {},
     "output_type": "execute_result"
    }
   ],
   "source": [
    "df['instrument_name'].unique()"
   ]
  },
  {
   "cell_type": "code",
   "execution_count": 12,
   "metadata": {},
   "outputs": [],
   "source": [
    "import requests\n",
    "import time\n",
    "from datetime import datetime, timedelta\n",
    "\n",
    "def get_last_trades_1(currency, kind, start_time, end_time, count=1000):\n",
    "    # Convert timestamps to milliseconds since epoch\n",
    "    end_timestamp = int(time.mktime(end_time.timetuple()) * 1000)\n",
    "    start_timestamp = int(time.mktime(start_time.timetuple()) * 1000)\n",
    "\n",
    "\n",
    "    # Define a message to get option trading information\n",
    "    options_message = {\n",
    "        \"jsonrpc\": \"2.0\",\n",
    "        \"id\": 2,\n",
    "        \"method\": \"public/get_last_trades_by_currency_and_time\",\n",
    "        \"params\": {\n",
    "            'currency': currency,\n",
    "            'kind': kind,\n",
    "            'start_timestamp': start_timestamp,\n",
    "            'end_timestamp': end_timestamp,\n",
    "            'count': count,\n",
    "            'sorting': 'asc'\n",
    "        }\n",
    "    }\n",
    "\n",
    "    # Send the message to get options information\n",
    "    ws.send(json.dumps(options_message))\n",
    "    options_response = ws.recv()\n",
    "    print(options_response)\n",
    "\n",
    "    # Close the WebSocket connection\n",
    "\n",
    "    return options_response\n",
    "\n"
   ]
  },
  {
   "cell_type": "code",
   "execution_count": 33,
   "metadata": {},
   "outputs": [
    {
     "name": "stdout",
     "output_type": "stream",
     "text": [
      "{\"jsonrpc\":\"2.0\",\"id\":2,\"result\":{\"has_more\":false,\"trades\":[]},\"usIn\":1717742894715022,\"usOut\":1717742894715194,\"usDiff\":172,\"testnet\":false}\n"
     ]
    },
    {
     "data": {
      "text/html": [
       "<div>\n",
       "<style scoped>\n",
       "    .dataframe tbody tr th:only-of-type {\n",
       "        vertical-align: middle;\n",
       "    }\n",
       "\n",
       "    .dataframe tbody tr th {\n",
       "        vertical-align: top;\n",
       "    }\n",
       "\n",
       "    .dataframe thead th {\n",
       "        text-align: right;\n",
       "    }\n",
       "</style>\n",
       "<table border=\"1\" class=\"dataframe\">\n",
       "  <thead>\n",
       "    <tr style=\"text-align: right;\">\n",
       "      <th></th>\n",
       "    </tr>\n",
       "  </thead>\n",
       "  <tbody>\n",
       "  </tbody>\n",
       "</table>\n",
       "</div>"
      ],
      "text/plain": [
       "Empty DataFrame\n",
       "Columns: []\n",
       "Index: []"
      ]
     },
     "execution_count": 33,
     "metadata": {},
     "output_type": "execute_result"
    }
   ],
   "source": [
    "#Lets use the function\n",
    "import websocket\n",
    "import json\n",
    "import time\n",
    "from datetime import datetime, timedelta\n",
    "start_time = datetime.now()\n",
    "end_time = start_time - timedelta(hours=1)\n",
    "end_time = end_time - timedelta(days=7)\n",
    "currency = 'MATIC_USDC'\n",
    "kind = 'spot'\n",
    "count = 1000\n",
    "ws = websocket.create_connection('wss://www.deribit.com/ws/api/v2')\n",
    "response = get_last_trades_1(currency, kind, start_time, end_time, count)\n",
    "response = json.loads(response)\n",
    "trades = response['result']['trades']\n",
    "df = pd.json_normalize(trades)\n",
    "#df['timestamp'] = pd.to_datetime(df['timestamp'], unit='ms')\n",
    "df.head()"
   ]
  },
  {
   "cell_type": "code",
   "execution_count": 34,
   "metadata": {},
   "outputs": [
    {
     "name": "stdout",
     "output_type": "stream",
     "text": [
      "Mark price history for MATIC_USDC:\n"
     ]
    }
   ],
   "source": [
    "import requests\n",
    "from datetime import datetime\n",
    "\n",
    "def get_mark_price_history(instrument_name, start_timestamp, end_timestamp, resolution='1'):\n",
    "    base_url = \"https://www.deribit.com/api/v2/public/get_mark_price_history\"\n",
    "    \n",
    "    params = {\n",
    "        'instrument_name': instrument_name,\n",
    "        'start_timestamp': start_timestamp,\n",
    "        'end_timestamp': end_timestamp\n",
    "    }\n",
    "    \n",
    "    response = requests.get(base_url, params=params)\n",
    "    \n",
    "    if response.status_code == 200:\n",
    "        data = response.json()\n",
    "        if 'result' in data:\n",
    "            return data['result']\n",
    "        else:\n",
    "            raise Exception(\"Unexpected response format: 'result' key not found\")\n",
    "    else:\n",
    "        raise Exception(f\"Error {response.status_code}: {response.text}\")\n",
    "\n",
    "# Example usage\n",
    "if __name__ == \"__main__\":\n",
    "    try:\n",
    "        instrument_name = 'MATIC_USDC'  # Specify the instrument name\n",
    "        start_timestamp = int(datetime(2024, 5, 1).timestamp() * 1000)  # Start date (e.g., May 1, 2023)\n",
    "        end_timestamp = int(datetime(2024, 5, 2).timestamp() * 1000)    # End date (e.g., June 1, 2023)\n",
    "        resolution = '1'  # Specify the resolution, e.g., '1' for 1 minute\n",
    "\n",
    "        mark_price_history = get_mark_price_history(instrument_name, start_timestamp, end_timestamp)\n",
    "        print(f\"Mark price history for {instrument_name}:\")\n",
    "        for entry in mark_price_history:\n",
    "            print(entry)\n",
    "    except Exception as e:\n",
    "        print(e)\n"
   ]
  },
  {
   "cell_type": "code",
   "execution_count": 35,
   "metadata": {},
   "outputs": [
    {
     "data": {
      "text/plain": [
       "[]"
      ]
     },
     "execution_count": 35,
     "metadata": {},
     "output_type": "execute_result"
    }
   ],
   "source": [
    "mark_price_history"
   ]
  }
 ],
 "metadata": {
  "kernelspec": {
   "display_name": "base",
   "language": "python",
   "name": "python3"
  },
  "language_info": {
   "codemirror_mode": {
    "name": "ipython",
    "version": 3
   },
   "file_extension": ".py",
   "mimetype": "text/x-python",
   "name": "python",
   "nbconvert_exporter": "python",
   "pygments_lexer": "ipython3",
   "version": "3.11.5"
  }
 },
 "nbformat": 4,
 "nbformat_minor": 2
}
